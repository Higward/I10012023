{
 "cells": [
  {
   "cell_type": "code",
   "execution_count": 1,
   "metadata": {
    "collapsed": true
   },
   "outputs": [],
   "source": [
    "import pandas as pd\n",
    "from scipy import stats as st\n",
    "from scipy.stats import chi2, chi2_contingency"
   ]
  },
  {
   "cell_type": "code",
   "execution_count": 2,
   "outputs": [],
   "source": [
    "# Предположим мы получаем выгрузки из системы в формате csv. Проведем некий первичный анализ полученных данных...\n",
    "\n",
    "users = pd.read_csv('./datasets/users.csv')\n",
    "calls = pd.read_csv('./datasets/calls.csv', sep=';')\n",
    "orders = pd.read_csv('./datasets/orders.csv')"
   ],
   "metadata": {
    "collapsed": false
   }
  },
  {
   "cell_type": "markdown",
   "source": [
    "Расшифровка статуса заказа:\n",
    "    N - заказ завершился успешно без проблем\n",
    "    R - заказ был отменен службой поддержки по причине не корректного адреса\n",
    "    M - заказ был отменен по другой причине"
   ],
   "metadata": {
    "collapsed": false
   }
  },
  {
   "cell_type": "code",
   "execution_count": 3,
   "outputs": [],
   "source": [
    "df_files = [\n",
    "    {\"df\": users, \"name\": \"Пользователи\", \"data_column\": [\"reg_data\"]},\n",
    "    {\"df\": calls, \"name\": \"Звонки\", \"data_column\": [\"call_data\"]},\n",
    "    {\"df\": orders, \"name\": \"Заказы\", \"data_column\": [\"order_data\"]},\n",
    "]"
   ],
   "metadata": {
    "collapsed": false
   }
  },
  {
   "cell_type": "code",
   "execution_count": 4,
   "outputs": [],
   "source": [
    "def dfs_info_and_header(dfs: dict):\n",
    "    for df in dfs:\n",
    "        print(df[\"name\"])\n",
    "        print(\"-\" * 15)\n",
    "        display(df[\"df\"].info())\n",
    "        display(df[\"df\"].head())"
   ],
   "metadata": {
    "collapsed": false
   }
  },
  {
   "cell_type": "markdown",
   "source": [
    "Посмотрим, какие данные до нас добрались"
   ],
   "metadata": {
    "collapsed": false
   }
  },
  {
   "cell_type": "code",
   "execution_count": 5,
   "outputs": [
    {
     "name": "stdout",
     "output_type": "stream",
     "text": [
      "Пользователи\n",
      "---------------\n",
      "<class 'pandas.core.frame.DataFrame'>\n",
      "RangeIndex: 6 entries, 0 to 5\n",
      "Data columns (total 4 columns):\n",
      " #   Column         Non-Null Count  Dtype \n",
      "---  ------         --------------  ----- \n",
      " 0   user_id        6 non-null      int64 \n",
      " 1   device         6 non-null      object\n",
      " 2   reg_data       6 non-null      object\n",
      " 3   group_of_test  6 non-null      object\n",
      "dtypes: int64(1), object(3)\n",
      "memory usage: 320.0+ bytes\n"
     ]
    },
    {
     "data": {
      "text/plain": "None"
     },
     "metadata": {},
     "output_type": "display_data"
    },
    {
     "data": {
      "text/plain": "   user_id   device     reg_data group_of_test\n0        1      IOS   2020-01-05             A\n1        2  Android   2020-01-05             B\n2        3  desktop   2020-01-05             B\n3        4      IOS   2020-01-06             A\n4        5      IOS   2020-01-05             A",
      "text/html": "<div>\n<style scoped>\n    .dataframe tbody tr th:only-of-type {\n        vertical-align: middle;\n    }\n\n    .dataframe tbody tr th {\n        vertical-align: top;\n    }\n\n    .dataframe thead th {\n        text-align: right;\n    }\n</style>\n<table border=\"1\" class=\"dataframe\">\n  <thead>\n    <tr style=\"text-align: right;\">\n      <th></th>\n      <th>user_id</th>\n      <th>device</th>\n      <th>reg_data</th>\n      <th>group_of_test</th>\n    </tr>\n  </thead>\n  <tbody>\n    <tr>\n      <th>0</th>\n      <td>1</td>\n      <td>IOS</td>\n      <td>2020-01-05</td>\n      <td>A</td>\n    </tr>\n    <tr>\n      <th>1</th>\n      <td>2</td>\n      <td>Android</td>\n      <td>2020-01-05</td>\n      <td>B</td>\n    </tr>\n    <tr>\n      <th>2</th>\n      <td>3</td>\n      <td>desktop</td>\n      <td>2020-01-05</td>\n      <td>B</td>\n    </tr>\n    <tr>\n      <th>3</th>\n      <td>4</td>\n      <td>IOS</td>\n      <td>2020-01-06</td>\n      <td>A</td>\n    </tr>\n    <tr>\n      <th>4</th>\n      <td>5</td>\n      <td>IOS</td>\n      <td>2020-01-05</td>\n      <td>A</td>\n    </tr>\n  </tbody>\n</table>\n</div>"
     },
     "metadata": {},
     "output_type": "display_data"
    },
    {
     "name": "stdout",
     "output_type": "stream",
     "text": [
      "Звонки\n",
      "---------------\n",
      "<class 'pandas.core.frame.DataFrame'>\n",
      "RangeIndex: 4 entries, 0 to 3\n",
      "Data columns (total 4 columns):\n",
      " #   Column       Non-Null Count  Dtype \n",
      "---  ------       --------------  ----- \n",
      " 0   order_id     4 non-null      int64 \n",
      " 1   response     4 non-null      object\n",
      " 2   response_id  4 non-null      object\n",
      " 3   call_data    4 non-null      object\n",
      "dtypes: int64(1), object(3)\n",
      "memory usage: 256.0+ bytes\n"
     ]
    },
    {
     "data": {
      "text/plain": "None"
     },
     "metadata": {},
     "output_type": "display_data"
    },
    {
     "data": {
      "text/plain": "   order_id                              response response_id   call_data\n0         5  Created new order. Incorrect address           R  2020-05-06\n1         8            Order rejected because ...           M  2020-05-07\n2        10                               Recreat           R  2020-05-06\n3        12                        Order rejected           M  2020-05-07",
      "text/html": "<div>\n<style scoped>\n    .dataframe tbody tr th:only-of-type {\n        vertical-align: middle;\n    }\n\n    .dataframe tbody tr th {\n        vertical-align: top;\n    }\n\n    .dataframe thead th {\n        text-align: right;\n    }\n</style>\n<table border=\"1\" class=\"dataframe\">\n  <thead>\n    <tr style=\"text-align: right;\">\n      <th></th>\n      <th>order_id</th>\n      <th>response</th>\n      <th>response_id</th>\n      <th>call_data</th>\n    </tr>\n  </thead>\n  <tbody>\n    <tr>\n      <th>0</th>\n      <td>5</td>\n      <td>Created new order. Incorrect address</td>\n      <td>R</td>\n      <td>2020-05-06</td>\n    </tr>\n    <tr>\n      <th>1</th>\n      <td>8</td>\n      <td>Order rejected because ...</td>\n      <td>M</td>\n      <td>2020-05-07</td>\n    </tr>\n    <tr>\n      <th>2</th>\n      <td>10</td>\n      <td>Recreat</td>\n      <td>R</td>\n      <td>2020-05-06</td>\n    </tr>\n    <tr>\n      <th>3</th>\n      <td>12</td>\n      <td>Order rejected</td>\n      <td>M</td>\n      <td>2020-05-07</td>\n    </tr>\n  </tbody>\n</table>\n</div>"
     },
     "metadata": {},
     "output_type": "display_data"
    },
    {
     "name": "stdout",
     "output_type": "stream",
     "text": [
      "Заказы\n",
      "---------------\n",
      "<class 'pandas.core.frame.DataFrame'>\n",
      "RangeIndex: 14 entries, 0 to 13\n",
      "Data columns (total 4 columns):\n",
      " #   Column      Non-Null Count  Dtype \n",
      "---  ------      --------------  ----- \n",
      " 0   user_id     14 non-null     int64 \n",
      " 1   order_id    14 non-null     int64 \n",
      " 2   status      14 non-null     object\n",
      " 3   order_data  14 non-null     object\n",
      "dtypes: int64(2), object(2)\n",
      "memory usage: 576.0+ bytes\n"
     ]
    },
    {
     "data": {
      "text/plain": "None"
     },
     "metadata": {},
     "output_type": "display_data"
    },
    {
     "data": {
      "text/plain": "   user_id  order_id status  order_data\n0        1         1      N  2020-05-05\n1        1         2      N  2020-05-05\n2        1         3      N  2020-05-06\n3        2         4      N  2020-05-05\n4        2         5      R  2020-05-06",
      "text/html": "<div>\n<style scoped>\n    .dataframe tbody tr th:only-of-type {\n        vertical-align: middle;\n    }\n\n    .dataframe tbody tr th {\n        vertical-align: top;\n    }\n\n    .dataframe thead th {\n        text-align: right;\n    }\n</style>\n<table border=\"1\" class=\"dataframe\">\n  <thead>\n    <tr style=\"text-align: right;\">\n      <th></th>\n      <th>user_id</th>\n      <th>order_id</th>\n      <th>status</th>\n      <th>order_data</th>\n    </tr>\n  </thead>\n  <tbody>\n    <tr>\n      <th>0</th>\n      <td>1</td>\n      <td>1</td>\n      <td>N</td>\n      <td>2020-05-05</td>\n    </tr>\n    <tr>\n      <th>1</th>\n      <td>1</td>\n      <td>2</td>\n      <td>N</td>\n      <td>2020-05-05</td>\n    </tr>\n    <tr>\n      <th>2</th>\n      <td>1</td>\n      <td>3</td>\n      <td>N</td>\n      <td>2020-05-06</td>\n    </tr>\n    <tr>\n      <th>3</th>\n      <td>2</td>\n      <td>4</td>\n      <td>N</td>\n      <td>2020-05-05</td>\n    </tr>\n    <tr>\n      <th>4</th>\n      <td>2</td>\n      <td>5</td>\n      <td>R</td>\n      <td>2020-05-06</td>\n    </tr>\n  </tbody>\n</table>\n</div>"
     },
     "metadata": {},
     "output_type": "display_data"
    }
   ],
   "source": [
    "dfs_info_and_header(df_files)"
   ],
   "metadata": {
    "collapsed": false
   }
  },
  {
   "cell_type": "code",
   "execution_count": 6,
   "outputs": [],
   "source": [
    "def checkout_duplicated(dfs: dict):\n",
    "    for df in dfs:\n",
    "        print(\"-\" * 15)\n",
    "        print(df[\"name\"])\n",
    "        print(\"Число дубликатов:\", df[\"df\"].duplicated().sum())"
   ],
   "metadata": {
    "collapsed": false
   }
  },
  {
   "cell_type": "markdown",
   "source": [
    "Проверим на дубликаты в выгрузке, на всякий случай."
   ],
   "metadata": {
    "collapsed": false
   }
  },
  {
   "cell_type": "code",
   "execution_count": 7,
   "outputs": [
    {
     "name": "stdout",
     "output_type": "stream",
     "text": [
      "---------------\n",
      "Пользователи\n",
      "Число дубликатов: 0\n",
      "---------------\n",
      "Звонки\n",
      "Число дубликатов: 0\n",
      "---------------\n",
      "Заказы\n",
      "Число дубликатов: 0\n"
     ]
    }
   ],
   "source": [
    "checkout_duplicated(df_files)"
   ],
   "metadata": {
    "collapsed": false
   }
  },
  {
   "cell_type": "code",
   "execution_count": 8,
   "outputs": [],
   "source": [
    "def convert_data_column(dfs: dict, date_format: str):\n",
    "    for df_t in dfs:\n",
    "        if 'data_column' in df_t:\n",
    "            df = df_t[\"df\"]\n",
    "            for data_column in df_t['data_column']:\n",
    "                df[data_column] = pd.to_datetime(df[data_column], format=date_format)"
   ],
   "metadata": {
    "collapsed": false
   }
  },
  {
   "cell_type": "markdown",
   "source": [
    "Конвертируем в паднасовский формат время"
   ],
   "metadata": {
    "collapsed": false
   }
  },
  {
   "cell_type": "code",
   "execution_count": 9,
   "outputs": [],
   "source": [
    "convert_data_column(df_files, \"%Y-%m-%d\")"
   ],
   "metadata": {
    "collapsed": false
   }
  },
  {
   "cell_type": "code",
   "execution_count": 10,
   "outputs": [],
   "source": [
    "users['group_of_test'] = users['group_of_test'].astype(\"category\")"
   ],
   "metadata": {
    "collapsed": false
   }
  },
  {
   "cell_type": "markdown",
   "source": [
    "После такой предварительно подготовке, разделим на группы. Уберем не участвующих в тесте. Посмотрим"
   ],
   "metadata": {
    "collapsed": false
   }
  },
  {
   "cell_type": "code",
   "execution_count": 11,
   "outputs": [],
   "source": [
    "df_A = users[users[\"group_of_test\"] == \"A\"]\n",
    "df_B = users[users[\"group_of_test\"] == \"B\"]"
   ],
   "metadata": {
    "collapsed": false
   }
  },
  {
   "cell_type": "code",
   "execution_count": 12,
   "outputs": [],
   "source": [
    "df_A = pd.merge(pd.merge(df_A, orders, on=\"user_id\"), calls, on=\"order_id\", how=\"left\")"
   ],
   "metadata": {
    "collapsed": false
   }
  },
  {
   "cell_type": "code",
   "execution_count": 13,
   "outputs": [],
   "source": [
    "df_B = pd.merge(pd.merge(df_B, orders, on=\"user_id\"), calls, on=\"order_id\", how=\"left\")"
   ],
   "metadata": {
    "collapsed": false
   }
  },
  {
   "cell_type": "markdown",
   "source": [],
   "metadata": {
    "collapsed": false
   }
  },
  {
   "cell_type": "code",
   "execution_count": 14,
   "outputs": [
    {
     "data": {
      "text/plain": "   user_id   device   reg_data group_of_test  order_id status order_data  \\\n0        2  Android 2020-01-05             B         4      N 2020-05-05   \n1        2  Android 2020-01-05             B         5      R 2020-05-06   \n2        2  Android 2020-01-05             B         6      N 2020-05-06   \n3        3  desktop 2020-01-05             B         7      N 2020-05-05   \n4        3  desktop 2020-01-05             B         8      M 2020-05-07   \n5        6      IOS 2020-01-06             B        14      N 2020-05-07   \n\n                               response response_id  call_data  \n0                                   NaN         NaN        NaT  \n1  Created new order. Incorrect address           R 2020-05-06  \n2                                   NaN         NaN        NaT  \n3                                   NaN         NaN        NaT  \n4            Order rejected because ...           M 2020-05-07  \n5                                   NaN         NaN        NaT  ",
      "text/html": "<div>\n<style scoped>\n    .dataframe tbody tr th:only-of-type {\n        vertical-align: middle;\n    }\n\n    .dataframe tbody tr th {\n        vertical-align: top;\n    }\n\n    .dataframe thead th {\n        text-align: right;\n    }\n</style>\n<table border=\"1\" class=\"dataframe\">\n  <thead>\n    <tr style=\"text-align: right;\">\n      <th></th>\n      <th>user_id</th>\n      <th>device</th>\n      <th>reg_data</th>\n      <th>group_of_test</th>\n      <th>order_id</th>\n      <th>status</th>\n      <th>order_data</th>\n      <th>response</th>\n      <th>response_id</th>\n      <th>call_data</th>\n    </tr>\n  </thead>\n  <tbody>\n    <tr>\n      <th>0</th>\n      <td>2</td>\n      <td>Android</td>\n      <td>2020-01-05</td>\n      <td>B</td>\n      <td>4</td>\n      <td>N</td>\n      <td>2020-05-05</td>\n      <td>NaN</td>\n      <td>NaN</td>\n      <td>NaT</td>\n    </tr>\n    <tr>\n      <th>1</th>\n      <td>2</td>\n      <td>Android</td>\n      <td>2020-01-05</td>\n      <td>B</td>\n      <td>5</td>\n      <td>R</td>\n      <td>2020-05-06</td>\n      <td>Created new order. Incorrect address</td>\n      <td>R</td>\n      <td>2020-05-06</td>\n    </tr>\n    <tr>\n      <th>2</th>\n      <td>2</td>\n      <td>Android</td>\n      <td>2020-01-05</td>\n      <td>B</td>\n      <td>6</td>\n      <td>N</td>\n      <td>2020-05-06</td>\n      <td>NaN</td>\n      <td>NaN</td>\n      <td>NaT</td>\n    </tr>\n    <tr>\n      <th>3</th>\n      <td>3</td>\n      <td>desktop</td>\n      <td>2020-01-05</td>\n      <td>B</td>\n      <td>7</td>\n      <td>N</td>\n      <td>2020-05-05</td>\n      <td>NaN</td>\n      <td>NaN</td>\n      <td>NaT</td>\n    </tr>\n    <tr>\n      <th>4</th>\n      <td>3</td>\n      <td>desktop</td>\n      <td>2020-01-05</td>\n      <td>B</td>\n      <td>8</td>\n      <td>M</td>\n      <td>2020-05-07</td>\n      <td>Order rejected because ...</td>\n      <td>M</td>\n      <td>2020-05-07</td>\n    </tr>\n    <tr>\n      <th>5</th>\n      <td>6</td>\n      <td>IOS</td>\n      <td>2020-01-06</td>\n      <td>B</td>\n      <td>14</td>\n      <td>N</td>\n      <td>2020-05-07</td>\n      <td>NaN</td>\n      <td>NaN</td>\n      <td>NaT</td>\n    </tr>\n  </tbody>\n</table>\n</div>"
     },
     "execution_count": 14,
     "metadata": {},
     "output_type": "execute_result"
    }
   ],
   "source": [
    "df_B"
   ],
   "metadata": {
    "collapsed": false
   }
  },
  {
   "cell_type": "markdown",
   "source": [
    "Начнем сверять метрики"
   ],
   "metadata": {
    "collapsed": false
   }
  },
  {
   "cell_type": "code",
   "execution_count": 15,
   "outputs": [],
   "source": [
    "def number_of_rejected_orders(df: pd.DataFrame):\n",
    "    nro_to_all = df[df[\"status\"] != \"N\"].shape[0] / df.shape[0]\n",
    "    nro_incorrect_order = df[df[\"status\"] == \"R\"].shape[0] / df[df[\"status\"] != \"N\"].shape[0]\n",
    "    nro_conversion = df[df[\"status\"] == \"N\"].shape[0] / df.shape[0]\n",
    "    return nro_to_all, nro_incorrect_order, nro_conversion"
   ],
   "metadata": {
    "collapsed": false
   }
  },
  {
   "cell_type": "code",
   "execution_count": 16,
   "outputs": [],
   "source": [
    "def call_reorder(df: pd.DataFrame):\n",
    "    count_call = df.count()[\"response_id\"]\n",
    "    count_cr = df[df[\"response_id\"] == \"R\"].shape[0]\n",
    "    percent_cr = count_cr / count_call\n",
    "    return count_call, count_cr, percent_cr"
   ],
   "metadata": {
    "collapsed": false
   }
  },
  {
   "cell_type": "code",
   "execution_count": 17,
   "outputs": [],
   "source": [
    "def conversion(df: pd.DataFrame, old_data):\n",
    "    sold = df[df[\"status\"] == \"N\"].shape[0]\n",
    "    conversion_rate = sold / df.shape[0] - old_data[\"cr\"]\n",
    "    cr = df_A.groupby(['user_id']).size().reset_index(name='count')\n",
    "    repeat_rate = len(cr[cr['count'] != 1]) / df.shape[0] - old_data[\"rr\"]\n",
    "    return conversion_rate, repeat_rate"
   ],
   "metadata": {
    "collapsed": false
   }
  },
  {
   "cell_type": "code",
   "execution_count": 18,
   "outputs": [],
   "source": [
    "def statistics(df: pd.DataFrame):\n",
    "    print(\"Число отмененных заказов в общем число заказов {:0.3%}.\\n\"\n",
    "          \"Процент отмененных заказов по причине некорректного адреса, {:0.2%} от всех отмененых заказов.\\n\"\n",
    "          \"Число завершенных заказов в общем числе заказов {:0.3%}.\\n\"\n",
    "          .format(*number_of_rejected_orders(df)))\n",
    "    print(\"Число звонков {:d}.\\n\"\n",
    "          \"число звонков с целью поменять адрес {:d}.\\n\"\n",
    "          \"Процент звонков с целью поменять адрес {:0.2%}.\\n\"\n",
    "          .format(*call_reorder(df)))\n",
    "    old_data = {\n",
    "        \"cr\": 0.5\n",
    "        , \"rr\": 0.2\n",
    "    }\n",
    "    print(\"Изменение числа завершенных заказов по отношению к предыдущему {:+0.2f}pp.\\n\"\n",
    "          \"Изменение числа повторных обращений к предыдущему {:+0.2f}pp.\\n\"\n",
    "          .format(*conversion(df, old_data)))"
   ],
   "metadata": {
    "collapsed": false
   }
  },
  {
   "cell_type": "code",
   "execution_count": 19,
   "outputs": [
    {
     "name": "stdout",
     "output_type": "stream",
     "text": [
      "Число отмененных заказов в общем число заказов 25.000%.\n",
      "Процент отмененных заказов по причине некорректного адреса, 50.00% от всех отмененых заказов.\n",
      "Число завершенных заказов в общем числе заказов 75.000%.\n",
      "\n",
      "Число звонков 2.\n",
      "число звонков с целью поменять адрес 1.\n",
      "Процент звонков с целью поменять адрес 50.00%.\n",
      "\n",
      "Изменение числа завершенных заказов по отношению к предыдущему +0.25pp.\n",
      "Изменение числа повторных обращений к предыдущему +0.05pp.\n",
      "\n"
     ]
    }
   ],
   "source": [
    "statistics(df_A)"
   ],
   "metadata": {
    "collapsed": false
   }
  },
  {
   "cell_type": "code",
   "execution_count": 20,
   "outputs": [
    {
     "name": "stdout",
     "output_type": "stream",
     "text": [
      "Число отмененных заказов в общем число заказов 33.333%.\n",
      "Процент отмененных заказов по причине некорректного адреса, 50.00% от всех отмененых заказов.\n",
      "Число завершенных заказов в общем числе заказов 66.667%.\n",
      "\n",
      "Число звонков 2.\n",
      "число звонков с целью поменять адрес 1.\n",
      "Процент звонков с целью поменять адрес 50.00%.\n",
      "\n",
      "Изменение числа завершенных заказов по отношению к предыдущему +0.17pp.\n",
      "Изменение числа повторных обращений к предыдущему +0.13pp.\n",
      "\n"
     ]
    }
   ],
   "source": [
    "statistics(df_B)"
   ],
   "metadata": {
    "collapsed": false
   }
  },
  {
   "cell_type": "code",
   "execution_count": 23,
   "outputs": [],
   "source": [
    "def chi_test(\n",
    "        df_A: pd.DataFrame\n",
    "        , df_B: pd.DataFrame\n",
    "        , acceptance_criteria: float\n",
    "):\n",
    "    df = pd.concat([df_A, df_B])\n",
    "    df = df[(df[\"status\"] == \"N\") | (df[\"status\"] == \"R\")]\n",
    "\n",
    "    observed_values = pd.crosstab(df['group_of_test'], df['status']).values\n",
    "\n",
    "    null_hyp = \"Изменений в пользовательском поведении нет\"\n",
    "    alter_hyp = \"Есть изменения в поведении пользователя\"\n",
    "\n",
    "    chi2_statistic, p_value, dof, expected_values = chi2_contingency(observed_values, correction=False)\n",
    "    critical_value = chi2.ppf(1 - acceptance_criteria, dof)\n",
    "\n",
    "    if chi2_statistic >= critical_value:\n",
    "        print(\n",
    "            \"Так как chi-square статистика {:.3f} выше критического значения {:.3f}\".format(chi2_statistic,critical_value),\n",
    "            f\" - мы отвергаем нулевую гипотезу и заявляем: {alter_hyp}.\")\n",
    "    else:\n",
    "        print(\n",
    "            \"Так как chi-square статистика {:3f} ниже критического значения {:3f}\".format(chi2_statistic,critical_value),\n",
    "            f\" - мы не отвергаем нулевую гипотезу и заявляем: {null_hyp}.\")\n",
    "    if p_value <= acceptance_criteria:\n",
    "        print(\n",
    "            \"Так как p_value {:.3f} ниже допустимой погрешности {:.3f}\".format(p_value, acceptance_criteria),\n",
    "            f\" - мы отвергаем нулевую гипотезу и заявляем: {alter_hyp}.\")\n",
    "    else:\n",
    "        print(\n",
    "            \"As our p_value of {:.3f} выше допустимой погрешности {:.3f}\".format(p_value, acceptance_criteria),\n",
    "            f\" - мы не отвергаем нулевую гипотезу и заявляем: {null_hyp}.\")"
   ],
   "metadata": {
    "collapsed": false
   }
  },
  {
   "cell_type": "code",
   "execution_count": 24,
   "outputs": [
    {
     "name": "stdout",
     "output_type": "stream",
     "text": [
      "Так как chi-square статистика 0.068571 ниже критического значения 3.841459  - мы не отвергаем нулевую гипотезу и заявляем: Изменений в пользовательском поведении нет.\n",
      "As our p_value of 0.793 выше допустимой погрешности 0.050  - мы не отвергаем нулевую гипотезу и заявляем: Изменений в пользовательском поведении нет.\n"
     ]
    }
   ],
   "source": [
    "chi_test(df_A, df_B,0.05)"
   ],
   "metadata": {
    "collapsed": false
   }
  },
  {
   "cell_type": "code",
   "execution_count": 22,
   "outputs": [],
   "source": [],
   "metadata": {
    "collapsed": false
   }
  }
 ],
 "metadata": {
  "kernelspec": {
   "display_name": "Python 3",
   "language": "python",
   "name": "python3"
  },
  "language_info": {
   "codemirror_mode": {
    "name": "ipython",
    "version": 2
   },
   "file_extension": ".py",
   "mimetype": "text/x-python",
   "name": "python",
   "nbconvert_exporter": "python",
   "pygments_lexer": "ipython2",
   "version": "2.7.6"
  }
 },
 "nbformat": 4,
 "nbformat_minor": 0
}
